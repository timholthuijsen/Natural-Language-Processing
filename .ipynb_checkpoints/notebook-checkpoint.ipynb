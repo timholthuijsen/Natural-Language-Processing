{
 "cells": [
  {
   "cell_type": "markdown",
   "metadata": {},
   "source": [
    "# imports"
   ]
  },
  {
   "cell_type": "code",
   "execution_count": 1,
   "metadata": {},
   "outputs": [],
   "source": [
    "import codecs\n",
    "import csv\n",
    "import spacy\n",
    "import time\n",
    "import operator\n",
    "import timeit\n",
    "import nltk\n",
    "from nltk import word_tokenize\n",
    "import random as rd\n",
    "import numpy as np\n",
    "import matplotlib.pyplot as plt"
   ]
  },
  {
   "cell_type": "markdown",
   "metadata": {},
   "source": [
    "# Assignment 1"
   ]
  },
  {
   "cell_type": "markdown",
   "metadata": {},
   "source": [
    "## Guidelines\n",
    "\n",
    "> Remember to add an explanation of what you do using markdown, and to comment your code. Please *be brief*.\n",
    ">\n",
    "> If you re-use a substantial portion of code you find online, e.g on Stackoverflow, you need to add a link to it and make the borrowing explicit. The same applies of you take it and modify it, even substantially. There is nothing bad in doing that, providing you are acknowledging it and make it clear you know what you're doing.\n",
    ">\n",
    "> Make sure your notebooks have been run when you sumit, as I won't run them myself. Submit both the `.ipynb` file along with an `.html` export of the same. Submit all necessary auxilliary files as well. Please compress your submission into a `.zip` archive. Only `.zip` files can be submitted."
   ]
  },
  {
   "cell_type": "markdown",
   "metadata": {},
   "source": [
    "## Grading policy\n",
    "> As follows:\n",
    ">\n",
    "> * 70 points for correctly completing the assignment.\n",
    ">\n",
    "> * 20 points for appropriately writing and organizing your code in terms of structure, readibility (also by humans), comments and minimal documentation. It is important to be concise but also to explain what you did and why, when not obvious.\n",
    "> \n",
    "> * 10 points for doing something extra, e.g., if you go beyond expectations (overall or on something specific). Some ideas for extras might be mentioned in the exercises, or you can come up with your own. You don't need to do them all to get the bonus. The sum of points is 90, doing (some of) the extras can bring you to 100, so the extras are not necessary to get an A.\n",
    "> \n",
    "\n",
    "**The AUC code of conduct applies to this assignment: please only submit your own work.**"
   ]
  },
  {
   "cell_type": "markdown",
   "metadata": {},
   "source": [
    "---"
   ]
  },
  {
   "cell_type": "markdown",
   "metadata": {},
   "source": [
    "# Warm up (25 points)"
   ]
  },
  {
   "cell_type": "markdown",
   "metadata": {
    "collapsed": true
   },
   "source": [
    "## Question 1 (2 points)\n",
    "\n",
    "Explain why `list1` and `list2` behave differently when they are passed to the `append_to_nested_list()` function."
   ]
  },
  {
   "cell_type": "code",
   "execution_count": 2,
   "metadata": {},
   "outputs": [
    {
     "name": "stdout",
     "output_type": "stream",
     "text": [
      "[['Python'], [], []]\n",
      "[['Python'], ['Python'], ['Python']]\n"
     ]
    }
   ],
   "source": [
    "def append_to_nested_list(a_list):\n",
    "    a_list[0].append(\"Python\")\n",
    "    return a_list\n",
    "    \n",
    "list1 = [[], [], []]\n",
    "list2 = [[]] * 3\n",
    "\n",
    "print(append_to_nested_list(list1))\n",
    "print(append_to_nested_list(list2))"
   ]
  },
  {
   "cell_type": "markdown",
   "metadata": {},
   "source": [
    "### Explanation\n",
    "\n",
    "Because they are stored in different memory locations. \n",
    "List1 contains 3 seperate entities with different id's, whereas list2 contains 1 entity thrice.\n",
    "\n",
    "This difference between the lists can be shown using the id function:"
   ]
  },
  {
   "cell_type": "code",
   "execution_count": 3,
   "metadata": {},
   "outputs": [
    {
     "name": "stdout",
     "output_type": "stream",
     "text": [
      "False\n",
      "True\n"
     ]
    }
   ],
   "source": [
    "def append_to_nested_list(a_list):\n",
    "    a_list[0].append(\"Python\")\n",
    "    return a_list\n",
    "    \n",
    "list1 = [[], [], []]\n",
    "list2 = [[]] * 3\n",
    "\n",
    "#ID's are not equal for list1, but they are equal for list2\n",
    "print(id(list1[0]) == id(list1[1]))\n",
    "print(id(list2[0]) == id(list2[1]))"
   ]
  },
  {
   "cell_type": "markdown",
   "metadata": {},
   "source": [
    "Therefore, when the original empty list is modified, this will cause list2's other entries to change with it.\n",
    "\n",
    "List1's entries however are seperate memory entities, and therefore the second 2 will not change when the first one does\n",
    "\n",
    "\n",
    "\n",
    "\n",
    "\n"
   ]
  },
  {
   "cell_type": "markdown",
   "metadata": {},
   "source": [
    "## Question 2 (3 points)\n",
    "\n",
    "Write a function that counts the frequency of all the [palindrome](https://en.wikipedia.org/wiki/Palindrome) words in a text file and test it on `data/melville-md.txt`. \n",
    "\n",
    "Ensure that the words are treated case-insensitive."
   ]
  },
  {
   "cell_type": "code",
   "execution_count": 4,
   "metadata": {},
   "outputs": [
    {
     "name": "stdout",
     "output_type": "stream",
     "text": [
      "The Palindrome: a is contained 4666 times\n",
      "The Palindrome: l is contained 1 times\n",
      "The Palindrome: i is contained 1724 times\n",
      "The Palindrome: eye is contained 45 times\n",
      "The Palindrome: did is contained 231 times\n",
      "The Palindrome: ere is contained 76 times\n",
      "The Palindrome: redder is contained 1 times\n",
      "The Palindrome: eve is contained 2 times\n",
      "The Palindrome: sees is contained 4 times\n",
      "The Palindrome: o is contained 25 times\n",
      "The Palindrome: peep is contained 7 times\n",
      "The Palindrome: dad is contained 1 times\n",
      "The Palindrome: x is contained 1 times\n",
      "The Palindrome: dood is contained 2 times\n",
      "The Palindrome: level is contained 21 times\n",
      "The Palindrome: deed is contained 3 times\n",
      "The Palindrome: pip is contained 25 times\n",
      "The Palindrome: noon is contained 5 times\n",
      "The Palindrome: deified is contained 3 times\n",
      "The Palindrome: refer is contained 3 times\n",
      "The Palindrome: gag is contained 2 times\n",
      "The Palindrome: bob is contained 1 times\n",
      "The Palindrome: pop is contained 1 times\n",
      "The Palindrome: non is contained 2 times\n"
     ]
    }
   ],
   "source": [
    "corpus = \"data/melville-md.txt\"\n",
    "dict = {}\n",
    "\n",
    "def palindrome(corpus):\n",
    "    #open the file\n",
    "    file = open(corpus, \"r\", encoding='utf-8')\n",
    "    for line in file:\n",
    "        #read each word seperately\n",
    "        for word in line.split():\n",
    "            #case insensitive\n",
    "            word = word.lower()\n",
    "            #limiting to palindromes and alphabet\n",
    "            if (word == word[::-1]) and word.isalpha():\n",
    "                #adding palindromes to the dict\n",
    "                if word not in dict:\n",
    "                    dict[word] = 1\n",
    "                elif word in dict:\n",
    "                    dict[word] += 1\n",
    "    for i in dict:\n",
    "        print(\"The Palindrome:\", i, \"is contained\", dict[i], \"times\")\n",
    "                \n",
    "\n",
    "palindrome(corpus)"
   ]
  },
  {
   "cell_type": "markdown",
   "metadata": {},
   "source": [
    "## Question 3 (3 points)\n",
    "\n",
    "Rewrite the following code such that:\n",
    "\n",
    "- the sequence of fruit names are randomly presented (without replacement). Use a function in the [random](https://docs.python.org/3.7/library/random.html) module for this.\n",
    "\n",
    "\n",
    "- the article \"an\" is used when a fruit name begins with a vowel."
   ]
  },
  {
   "cell_type": "code",
   "execution_count": 5,
   "metadata": {
    "scrolled": true
   },
   "outputs": [
    {
     "name": "stdout",
     "output_type": "stream",
     "text": [
      "We have an apricot\n",
      "We have a tangerine\n",
      "We have a coconut\n",
      "We have a nance\n",
      "We have a persimmon\n",
      "We have a huckleberry\n",
      "We have a bilberry\n",
      "We have a clementine\n",
      "We have a cantaloupe\n",
      "We have a melon\n",
      "We have a mulberry\n",
      "We have a passionfruit\n",
      "We have a blackberry\n",
      "We have an elderberry\n",
      "We have a rambutan\n",
      "We have a plantain\n",
      "We have a peach\n",
      "We have a soursop\n",
      "We have a damson\n",
      "We have a grape\n",
      "We have a mangosteen\n",
      "We have a cucumber\n",
      "We have a redcurrant\n",
      "We have an orange\n",
      "We have a raspberry\n",
      "We have a cloudberry\n",
      "We have a pomegranate\n",
      "We have a raisin\n",
      "We have a pomelo\n",
      "We have a cranberry\n",
      "We have a yuzu\n",
      "We have a physalis\n",
      "We have a dragonfruit\n",
      "We have a grapefruit\n",
      "We have a jackfruit\n",
      "We have a jambul\n",
      "We have a papaya\n",
      "We have a prune\n",
      "We have a cherimoya\n",
      "We have a tamarind\n",
      "We have a lime\n",
      "We have a currant\n",
      "We have a lychee\n",
      "We have a pineapple\n",
      "We have a feijoa\n",
      "We have a pear\n",
      "We have a durian\n",
      "We have a guava\n",
      "We have a satsuma\n",
      "We have a kumquat\n",
      "We have a boysenberry\n",
      "We have a watermelon\n",
      "We have a jujube\n",
      "We have a longan\n",
      "We have a kiwano\n",
      "We have a kiwifruit\n",
      "We have a strawberry\n",
      "We have a date\n",
      "We have a marionberry\n",
      "We have a mango\n",
      "We have a plum\n",
      "We have a jabuticaba\n",
      "We have a mandarine\n",
      "We have a plumcot\n",
      "We have an apple\n",
      "We have a blackcurrant\n",
      "We have a lemon\n",
      "We have a quince\n",
      "We have a honeyberry\n",
      "We have a loquat\n",
      "We have a salmonberry\n",
      "We have a tamarillo\n",
      "We have a fig\n",
      "We have a gooseberry\n",
      "We have a honeydew\n",
      "We have an avocado\n",
      "We have a salak\n",
      "We have a cherry\n",
      "We have a blueberry\n",
      "We have a banana\n",
      "We have a nectarine\n"
     ]
    }
   ],
   "source": [
    "available_fruit = ['apple', 'apricot', 'avocado', 'banana', 'bilberry', 'blackberry', 'blackcurrant', 'blueberry', 'boysenberry', 'currant', 'cherry', 'cherimoya', 'cloudberry', 'coconut', 'cranberry', 'cucumber', 'damson', 'date', 'dragonfruit', 'durian', 'elderberry', 'feijoa', 'fig', 'gooseberry', 'grape', 'raisin', 'grapefruit', 'guava', 'honeyberry', 'huckleberry', 'jabuticaba', 'jackfruit', 'jambul', 'jujube', 'kiwano', 'kiwifruit', 'kumquat', 'lemon', 'lime', 'loquat', 'longan', 'lychee', 'mango', 'mangosteen', 'marionberry', 'melon', 'cantaloupe', 'honeydew', 'watermelon', 'mulberry', 'nectarine', 'nance', 'orange', 'clementine', 'mandarine', 'tangerine', 'papaya', 'passionfruit', 'peach', 'pear', 'persimmon', 'physalis', 'plantain', 'plum', 'prune', 'pineapple', 'plumcot', 'pomegranate', 'pomelo', 'quince', 'raspberry', 'salmonberry', 'rambutan', 'redcurrant', 'salak', 'satsuma', 'soursop', 'strawberry', 'tamarillo', 'tamarind', 'yuzu']\n",
    "vowels = ['a', 'e', 'i','o','u']\n",
    "\n",
    "def sequence(available_fruit):\n",
    "    #shuffle the list\n",
    "    rd.shuffle(available_fruit)\n",
    "    for fruit in available_fruit:\n",
    "        #check if it starts with a vowel to add an\n",
    "        if fruit[0] in vowels:\n",
    "            print(\"We have an \" + fruit)\n",
    "        #otherwise just print\n",
    "        else:\n",
    "            print(\"We have a \" + fruit)\n",
    "        \n",
    "sequence(available_fruit)\n",
    "        "
   ]
  },
  {
   "cell_type": "markdown",
   "metadata": {},
   "source": [
    "## Question 4 (7 points)\n",
    "\n",
    "The following code has been written to extract all the distinct consonants sequences in a text, where each sequence is obtained by stripping the vowels from a case-insensitive token (and a token is a sequence of characters separated by whitespaces).\n",
    "\n",
    "It works by reading an input file line by line, filtering out the vowels from each (case insensitive) token and saving each pattern of consonants in a set.\n",
    "\n",
    "Unfortunately, the method is quite slow. Can you find a way to speed it up? Please use the `timeit` method to show improvements from the provided version. **Possible extra:** find more than one way to speed it up."
   ]
  },
  {
   "cell_type": "code",
   "execution_count": 6,
   "metadata": {},
   "outputs": [],
   "source": [
    "import codecs"
   ]
  },
  {
   "cell_type": "code",
   "execution_count": 7,
   "metadata": {},
   "outputs": [
    {
     "name": "stdout",
     "output_type": "stream",
     "text": [
      "607 ms ± 10.2 ms per loop (mean ± std. dev. of 7 runs, 1 loop each)\n"
     ]
    }
   ],
   "source": [
    "%%timeit\n",
    "stripped_words = set()\n",
    "with codecs.open(\"data/melville-md.txt\", \"r\", encoding=\"utf8\") as infile:\n",
    "    for line in infile:\n",
    "        splLine= line.split()\n",
    "        for word in splLine:\n",
    "            consonant_seq = \"\".join([c for c in word.lower() if c not in [\"a\", \"e\", \"i\", \"o\", \"u\"]])\n",
    "            stripped_words.add(consonant_seq)"
   ]
  },
  {
   "cell_type": "markdown",
   "metadata": {},
   "source": [
    "Simply taking the use of codecs out of the code already substantially lowers its runtime:\n",
    "\n",
    "from 602ms + 16.9 ms to 410ms + 4.23ms without codecs"
   ]
  },
  {
   "cell_type": "code",
   "execution_count": 8,
   "metadata": {},
   "outputs": [
    {
     "name": "stdout",
     "output_type": "stream",
     "text": [
      "414 ms ± 17.2 ms per loop (mean ± std. dev. of 7 runs, 1 loop each)\n"
     ]
    }
   ],
   "source": [
    "%%timeit\n",
    "stripped_words = set()\n",
    "with open(\"data/melville-md.txt\", \"r\", encoding=\"utf8\") as infile:\n",
    "    for line in infile:\n",
    "        splLine= line.split()\n",
    "        for word in splLine:\n",
    "            consonant_seq = \"\".join([c for c in word.lower() if c not in [\"a\", \"e\", \"i\", \"o\", \"u\"]])\n",
    "            stripped_words.add(consonant_seq)"
   ]
  },
  {
   "cell_type": "markdown",
   "metadata": {
    "collapsed": true
   },
   "source": [
    "## Question 5 (10 points)\n",
    "\n",
    "Please use the frequencies in `late_arrival_causes` to create a duplicate of the plot below, as close as possible. This is called a Pareto chart.\n",
    "\n",
    "Note: the line plot above the bars shows the cumulative frequency.\n",
    "\n",
    "**Possible extra:** suggest, motivate and implement an alternative visualization for the same data."
   ]
  },
  {
   "cell_type": "markdown",
   "metadata": {},
   "source": [
    "![pareto chart](images/pareto-chart.png)"
   ]
  },
  {
   "cell_type": "code",
   "execution_count": 9,
   "metadata": {},
   "outputs": [],
   "source": [
    "late_arrival_causes = {\"Child Care\" : 44, \"Emergency\" : 7, \"Overslept\" : 11, \"Traffic\" : 56, \"Transp.\" : 27, \"Weather\" : 20}"
   ]
  },
  {
   "cell_type": "code",
   "execution_count": 10,
   "metadata": {},
   "outputs": [
    {
     "data": {
      "image/png": "[encoded data removed]",
      "text/plain": [
       "<Figure size 432x288 with 1 Axes>"
      ]
     },
     "metadata": {
      "needs_background": "light"
     },
     "output_type": "display_data"
    }
   ],
   "source": [
    "# With some help from:\n",
    "#https://stackoverflow.com/questions/613183/how-do-i-sort-a-dictionary-by-value\n",
    "#https://www.geeksforgeeks.org/graph-plotting-in-python-set-1/\n",
    "\n",
    "dic = {\"Child Care\" : 44, \"Emergency\" : 7, \"Overslept\" : 11, \"Traffic\" : 56, \"Transp.\" : 27, \"Weather\" : 20}\n",
    "y = []\n",
    "#Isolating and sorting the keys\n",
    "x = sorted(dic, key=dic.get)\n",
    "x.reverse()\n",
    "#Same for values\n",
    "for key in x:\n",
    "    y.append(dic[key])\n",
    "\n",
    "#calculating cumulative\n",
    "cum = []\n",
    "counter = 0\n",
    "for value in y:\n",
    "    counter += value\n",
    "    cum.append(counter)\n",
    "\n",
    "#creating the plot\n",
    "plt.plot(x,cum, color = 'gray', linestyle = 'dashed', marker = 'o')\n",
    "plt.bar(x,y, color = 'gray',)\n",
    "plt.title('Pareto Chart - Late Arrivals by Reported Cause')\n",
    "\n",
    "plt.show()\n",
    "\n"
   ]
  },
  {
   "cell_type": "markdown",
   "metadata": {},
   "source": [
    "---"
   ]
  },
  {
   "cell_type": "markdown",
   "metadata": {},
   "source": [
    "# Preprocessing pipelines (40 points)"
   ]
  },
  {
   "cell_type": "markdown",
   "metadata": {},
   "source": [
    "## Question 6 (25 points)\n",
    "\n",
    "- Download a 19th-century edition (or earlier, but not later!) of a book you like from the [Internet Archive](https://archive.org) in `.txt` format. For example, [Frankenstein](https://archive.org/details/ghostseer01schiuoft/page/n6). Add the link to the edition you used to your answer, as well as the `.txt` file to your submission.\n",
    "\n",
    "- Write code that:\n",
    "\n",
    "    1. Reads the text in memory.\n",
    "    \n",
    "    1. Pre-processes the text with a tokenizer from [NLTK](https://www.nltk.org/api/nltk.tokenize.html) (remember to motivate your choice).\n",
    "    \n",
    "    1. Filter out words that consist of strictly less than 4 alphabetic characters.\n",
    "\n",
    "    1. Counts the frequencies of all the words in the corpus (words should be counted case-insensitive).\n",
    "\n",
    "    1. Writes each word-frequency pair to a csv file (from most frequent to rarest).\n",
    "\n",
    "*Briefly* comment on your results, especially looking at very frequent and very unfrequent words. What is problematic about these old editions? Can you find some limitations of the tokenizer in use, and think about how you would improve on it?\n",
    "\n",
    "**Possible extra:** plot the relative frequency of the top N words (e.g., use the Pareto chart you did above, or another suitable plot) and discuss whether the distribution might follow the [Zipf's law](https://en.wikipedia.org/wiki/Zipf%27s_law).\n",
    "\n",
    "**Possible extra:** add lemmatization or stemming and part-of-speech tagging."
   ]
  },
  {
   "cell_type": "code",
   "execution_count": 11,
   "metadata": {
    "scrolled": true
   },
   "outputs": [
    {
     "name": "stdout",
     "output_type": "stream",
     "text": [
      "All tokens and frequencies have been written to data/frequencies.csv\n"
     ]
    }
   ],
   "source": [
    "#with some help from: https://medium.com/@datamonsters/text-preprocessing-in-python-steps-tools-and-examples-bf025f872908\n",
    "# and https://stackabuse.com/how-to-sort-dictionary-by-value-in-python/\n",
    "# and https://realpython.com/python-csv/\n",
    "\n",
    "\n",
    "\"\"\"\n",
    "For this question, I used 'How to Photograph Microscopic Objects' from 1886\n",
    "found at: https://archive.org/details/howtophotograph00jenngoog\n",
    "and saved as: data/microscopic.txt\n",
    "\"\"\"\n",
    "tokens = []\n",
    "freqs = {}\n",
    "\n",
    "#open the file\n",
    "with open(\"data/microscopic.txt\", \"r\", encoding=\"utf8\") as infile:\n",
    "    for line in infile:\n",
    "        #tokenize the file based on individual words, removing punctuation\n",
    "        tokenline = word_tokenize(line)\n",
    "        for token in tokenline:\n",
    "            #remove any token smaller than 4 letters\n",
    "            if len(token) > 4:\n",
    "                tokens.append(token.lower())       \n",
    "                \n",
    "#count the frequency of each token occurence in a dict      \n",
    "for token in tokens:\n",
    "    if token not in freqs:\n",
    "        freqs[token] = 1\n",
    "    elif token in freqs:\n",
    "        freqs[token] +=1\n",
    "        \n",
    "#sort the frequency dict\n",
    "sorted_dict = {}\n",
    "sorted_keys = reversed(sorted(freqs, key=freqs.get))\n",
    "for w in sorted_keys:\n",
    "    sorted_dict[w] = freqs[w]\n",
    "\n",
    "#Writing the tokens + frequencies to a csv file\n",
    "with open('data/frequencies.csv', mode='w', encoding = 'utf8') as outfile:\n",
    "    writer = csv.writer(outfile, delimiter=',')\n",
    "    #Creating the header\n",
    "    writer.writerow(['Token','Frequency'])\n",
    "    #writing from sorteddict\n",
    "    for pair in sorted_dict:\n",
    "        writer.writerow([pair,sorted_dict[pair]])\n",
    "    print(\"All tokens and frequencies have been written to data/frequencies.csv\")\n",
    "    \n",
    "\n",
    "    \n"
   ]
  },
  {
   "cell_type": "markdown",
   "metadata": {},
   "source": [
    "### Comments:\n",
    "\n",
    "The most frequent word in the microscopic.txt corpus is the stopword \"which\",\n",
    "which could potentially be filtered out along with other words of its kind.\n",
    "Microscopic and Microscope are also found rather high on the frequency list, which makes sense due to the text topic.\n",
    "A problem with these old texts and text recognition is that many words are misspelled. This creates a number of uniteresting\n",
    "tokens in the corpus, which can have many variations and therefore cloud our data.\n",
    "The process could be improved by removing the misspelled words, and potentially also removing stopwords. "
   ]
  },
  {
   "cell_type": "markdown",
   "metadata": {},
   "source": [
    "## Bonus:\n",
    "As an addition to this exercise, we will also look at the Pareto chart for the top N (set as 10) tokens and their occurence frequency.\n",
    "The occurence frequency as a function of rank seems to decrease relatively slowly for Zipf's law (frequency = 183 for rank 1, 126 for rank 2, and 107 for rank 3). Thus, it does not seem that this can be represented for a power law distribution, since 183 / 2 = 91.5, which is significantly smaller than 126. This is supported by comparing this pareto chart to the one from question 5: the bars for token frequency seem to decrease in size much slower than the one's for late arrivals."
   ]
  },
  {
   "cell_type": "code",
   "execution_count": 12,
   "metadata": {},
   "outputs": [
    {
     "data": {
      "image/png": "[encoded data removed]",
      "text/plain": [
       "<Figure size 936x432 with 1 Axes>"
      ]
     },
     "metadata": {
      "needs_background": "light"
     },
     "output_type": "display_data"
    }
   ],
   "source": [
    "N = 10\n",
    "counter = 0\n",
    "x = []\n",
    "y = []\n",
    "\n",
    "#Getting the first N tokens and frequencies\n",
    "for key in sorted_dict:\n",
    "    if counter > N:\n",
    "        break\n",
    "    else:\n",
    "        x.append(key)\n",
    "        y.append(sorted_dict[key])\n",
    "        counter += 1\n",
    "        \n",
    "#Using part of code from question 5 to create a pareto chart:\n",
    "#calculating cumulative\n",
    "cum = []\n",
    "counter = 0\n",
    "for value in y:\n",
    "    counter += value\n",
    "    cum.append(counter)\n",
    "\n",
    "#creating the plot\n",
    "plt.figure(figsize=(13, 6))\n",
    "plt.plot(x,cum, color = 'gray', linestyle = 'dashed', marker = 'o')\n",
    "plt.bar(x,y, color = 'gray',)\n",
    "plt.title('Pareto chart of Token by occurence frequency')\n",
    "\n",
    "plt.show()"
   ]
  },
  {
   "cell_type": "markdown",
   "metadata": {},
   "source": [
    "## Question 7 (15 points)\n",
    "\n",
    "Do some self-learning: implement the same pipeline of question 6 using [spaCy pipelines](https://spacy.io/usage/processing-pipelines)."
   ]
  },
  {
   "cell_type": "code",
   "execution_count": 13,
   "metadata": {},
   "outputs": [
    {
     "name": "stdout",
     "output_type": "stream",
     "text": [
      "All tokens and frequencies have been written to data/frequenciesSpacy.csv\n"
     ]
    }
   ],
   "source": [
    "#With some help from https://spacy.io/usage/processing-pipelines \n",
    "#and my own code from question 6\n",
    "tokens = []\n",
    "\n",
    "#Load the spacy pipeline\n",
    "nlp = spacy.load(\"en_core_web_sm\")\n",
    "\n",
    "#open the file\n",
    "with open(\"data/microscopic.txt\", \"r\", encoding=\"utf8\") as infile:\n",
    "    #implement the pipeline\n",
    "    for doc in nlp.pipe(infile):\n",
    "        for token in doc:\n",
    "            #remove any token smaller than 4 letters\n",
    "            if len(token) > 4:\n",
    "                tokens.append(token)\n",
    "\n",
    "#count the frequency of each token occurence in a dict      \n",
    "for token in tokens:\n",
    "    if token not in freqs:\n",
    "        freqs[token] = 1\n",
    "    elif token in freqs:\n",
    "        freqs[token] +=1\n",
    "        \n",
    "#sort the frequency dict\n",
    "sorted_dict = {}\n",
    "sorted_keys = reversed(sorted(freqs, key=freqs.get))\n",
    "for w in sorted_keys:\n",
    "    sorted_dict[w] = freqs[w]\n",
    "\n",
    "#Writing the tokens + frequencies to a csv file\n",
    "with open('data/frequenciesSpacy.csv', mode='w', encoding = 'utf8') as outfile:\n",
    "    writer = csv.writer(outfile, delimiter=',')\n",
    "    #Creating the header\n",
    "    writer.writerow(['Token','Frequency'])\n",
    "    #writing from sorteddict\n",
    "    for pair in sorted_dict:\n",
    "        writer.writerow([pair,sorted_dict[pair]])\n",
    "    print(\"All tokens and frequencies have been written to data/frequenciesSpacy.csv\")\n"
   ]
  },
  {
   "cell_type": "markdown",
   "metadata": {},
   "source": [
    "### Spacy Conclusion\n",
    "The CSV created using the Spacy Pipeline has the exact same results as the NLTK CSV. Thus, Spacy and NLTK work for this purpose perfectly. "
   ]
  },
  {
   "cell_type": "markdown",
   "metadata": {},
   "source": [
    "# Text similarity (25 points)"
   ]
  },
  {
   "cell_type": "markdown",
   "metadata": {},
   "source": [
    "## Question 8 (25 points)\n",
    "\n",
    "The **Levenshtein Distance** (see [Wikipedia](https://en.wikipedia.org/wiki/Levenshtein_distance) and J&M, Ch. 2.5) calculates the distance between two strings as the number of deletions, insertions, or substitutions required to transform one into the other. This is also called edit distance. **Write a reasonably efficient function to calculate this metric**.\n",
    "\n",
    "Examples: \n",
    "\n",
    "* `levenshtein(\" Hello \", \"hello\")` returns 3 (case sensitive)\n",
    "* `levenshtein(\"aeiou\", \"aeiouuu\")` returns 2\n",
    "\n",
    "Remarks:\n",
    "\n",
    "- **Important:** a (naive) recursive implementation is going to be very slow, so one way to ensure the function is efficient is by making it *iterative*. That said, there are also ways to speed up a recursive implementation. In the end, how you implement it is up to you, as long as it works.\n",
    "\n",
    "\n",
    "- The Wikipedia article discusses the difference between a (slow) recursive strategy and a (fast) iterative one.\n",
    "\n",
    "\n",
    "- Test your function with `%timeit` on two words with a high distance, e.g. \"levenshteindistance\" vs. \"ecnatsidniethsnevel\". If your function takes seconds to compute the distance, it's too slow. A moderately fast iterative function finishes in 100-200 ns on my computer.\n",
    "\n",
    "\n",
    "- This exercise only consists of writing a single function, so the threshold for **code originality** is higher here than in other exercises. The code for this exercise must be your own. If I find the code submitted to this exercise somewhere online (even with small changes like new variable names) it will be graded 0 points. Submitting a slow function that you wrote yourself is better than submitting a fast, but copied function.\n",
    "\n",
    "\n",
    "- Carefully comment your code in order to explain what your function is doing. **In this case, uncommented code will not be graded at all**."
   ]
  },
  {
   "cell_type": "code",
   "execution_count": 14,
   "metadata": {},
   "outputs": [
    {
     "name": "stdout",
     "output_type": "stream",
     "text": [
      "3\n",
      "2\n",
      "16\n"
     ]
    }
   ],
   "source": [
    "def levenshtein(str1, str2):\n",
    "    distance = 0\n",
    "    #Define which string is longest and which is shortest\n",
    "    if len(str1) == len(str2):\n",
    "        lonstr = str1\n",
    "        shortstr = str2\n",
    "    elif len(str1) > len(str2):\n",
    "        lonstr = str1\n",
    "        shortstr = str2\n",
    "    elif len(str2) > len(str1):\n",
    "        lonstr = str2\n",
    "        shortstr = str1\n",
    "    #add len() difference to distance\n",
    "    distance += (len(lonstr) - len(shortstr))\n",
    "    #adding all str characters to seperate lists\n",
    "    shortlst = []\n",
    "    lonlst = []\n",
    "    for i in range(len(shortstr)):\n",
    "        shortlst.append(shortstr[i])\n",
    "    for i in range(len(lonstr)):\n",
    "        lonlst.append(lonstr[i])\n",
    "    #adding 1 to distance for each differing letter\n",
    "    for l in shortlst:\n",
    "        if l not in lonlst:\n",
    "            distance += 1\n",
    "    counter = 0\n",
    "    #adding anagram distance\n",
    "    if len(shortlst) == len(lonlst):\n",
    "        for l in lonlst[:len(shortlst)]:\n",
    "            if lonlst[counter].lower() != shortlst[counter].lower():\n",
    "                distance += 1\n",
    "            counter +=1\n",
    "    return distance\n",
    "\n",
    "print(levenshtein(\" Hello \", \"hello\"))\n",
    "print(levenshtein(\"aeiou\", \"aeiouuu\"))\n",
    "print(levenshtein(\"levenshteindistance\",\"ecnatsidniethsnevel\"))\n",
    "    "
   ]
  },
  {
   "cell_type": "markdown",
   "metadata": {},
   "source": [
    "### Timing Performance:\n",
    "Now, we use the timeit.timeit function to determine how long this function takes to run:"
   ]
  },
  {
   "cell_type": "code",
   "execution_count": 15,
   "metadata": {
    "scrolled": true
   },
   "outputs": [
    {
     "name": "stdout",
     "output_type": "stream",
     "text": [
      "time to calculate distance between  Hello and hello is: 0.0075999999999964984 ms\n",
      "time to calculate distance between levenshteindistance and ecnatsidniethsnevel is: 0.020499999997980467 ms\n"
     ]
    }
   ],
   "source": [
    "#For this timing, I had a look at https://www.geeksforgeeks.org/timeit-python-examples/\n",
    "setup = \"\"\"\n",
    "def levenshtein(str1, str2):\n",
    "    distance = 0\n",
    "    #Define which string is longest and which is shortest\n",
    "    if len(str1) == len(str2):\n",
    "        lonstr = str1\n",
    "        shortstr = str2\n",
    "    elif len(str1) > len(str2):\n",
    "        lonstr = str1\n",
    "        shortstr = str2\n",
    "    elif len(str2) > len(str1):\n",
    "        lonstr = str2\n",
    "        shortstr = str1\n",
    "    #add len() difference to distance\n",
    "    distance += (len(lonstr) - len(shortstr))\n",
    "    #adding all str characters to seperate lists\n",
    "    shortlst = []\n",
    "    lonlst = []\n",
    "    for i in range(len(shortstr)):\n",
    "        shortlst.append(shortstr[i])\n",
    "    for i in range(len(lonstr)):\n",
    "        lonlst.append(lonstr[i])\n",
    "    #adding 1 to distance for each differing letter\n",
    "    for l in shortlst:\n",
    "        if l not in lonlst:\n",
    "            distance += 1\n",
    "    counter = 0\n",
    "    #adding anagram distance\n",
    "    if len(shortlst) == len(lonlst):\n",
    "        for l in lonlst[:len(shortlst)]:\n",
    "            if lonlst[counter].lower() != shortlst[counter].lower():\n",
    "                distance += 1\n",
    "            counter +=1\n",
    "    return distance\"\"\"\n",
    "\n",
    "easy = \"\"\"\n",
    "levenshtein(\" Hello \", \"hello\")\"\"\"\n",
    "\n",
    "hard = \"\"\"\n",
    "levenshtein(\"levenshteindistance\",\"ecnatsidniethsnevel\")\"\"\"\n",
    "\n",
    "time_taken_easy = timeit.timeit(setup = setup, stmt = easy, \n",
    "                     number = 1)\n",
    "time_taken_hard = timeit.timeit(setup = setup, stmt = hard, \n",
    "                     number = 1)\n",
    "\n",
    "print(\"time to calculate distance between  Hello and hello is:\", time_taken_easy*1000, \"ms\")\n",
    "print(\"time to calculate distance between levenshteindistance and ecnatsidniethsnevel is:\", time_taken_hard*1000, \"ms\")\n"
   ]
  },
  {
   "cell_type": "markdown",
   "metadata": {},
   "source": [
    "Depending on the difficulty of the distance to calculate, the calculation takes anywhere between 8 and 222 nanoseconds, which is a very good time. My program definitely doesn't take seconds to run, and doesn't even approach microseconds.\n",
    "It is therefore a relatively efficient program, and will not be a bottleneck for runtimes. "
   ]
  }
 ],
 "metadata": {
  "kernelspec": {
   "display_name": "Python 3",
   "language": "python",
   "name": "python3"
  },
  "language_info": {
   "codemirror_mode": {
    "name": "ipython",
    "version": 3
   },
   "file_extension": ".py",
   "mimetype": "text/x-python",
   "name": "python",
   "nbconvert_exporter": "python",
   "pygments_lexer": "ipython3",
   "version": "3.7.3"
  },
  "toc": {
   "base_numbering": 1,
   "nav_menu": {},
   "number_sections": true,
   "sideBar": true,
   "skip_h1_title": false,
   "title_cell": "Table of Contents",
   "title_sidebar": "Contents",
   "toc_cell": false,
   "toc_position": {},
   "toc_section_display": true,
   "toc_window_display": true
  }
 },
 "nbformat": 4,
 "nbformat_minor": 2
}
